{
 "cells": [
  {
   "cell_type": "code",
   "execution_count": null,
   "id": "b6e29846",
   "metadata": {},
   "outputs": [],
   "source": [
    "# What does an empty dictionary code look like?\n",
    "\n",
    "items= dict()\n",
    "\n",
    "\n",
    "# What is the value of a dictionary value with the \n",
    "\n",
    "{'foo': 42}\n",
    "\n",
    "\n",
    "# spam['foo'] if spam is {'bar': 100}?\n",
    "\n",
    "get a key error.\n",
    "\n",
    "\n",
    "# If a dictionary is stored in spam, what is the difference between the expressions 'cat' in spam and 'cat' in spam.keys()?\n",
    "\n",
    "There is no difference. The in operator checks whether a value exists as a key in the dictionary.\n",
    "\n",
    "# What is a shortcut for the following code?\n",
    "if 'color' not in spam:\n",
    "spam['color'] = 'black'\n",
    "\n",
    "\n",
    "spam.setdefault('color', 'black')\n",
    "\n",
    "\n",
    "# How do you \"pretty print\" dictionary values using which module and function?\n",
    "\n",
    "pprint.pprint()\n",
    "\n",
    "\n"
   ]
  }
 ],
 "metadata": {
  "kernelspec": {
   "display_name": "Python 3 (ipykernel)",
   "language": "python",
   "name": "python3"
  },
  "language_info": {
   "codemirror_mode": {
    "name": "ipython",
    "version": 3
   },
   "file_extension": ".py",
   "mimetype": "text/x-python",
   "name": "python",
   "nbconvert_exporter": "python",
   "pygments_lexer": "ipython3",
   "version": "3.9.7"
  }
 },
 "nbformat": 4,
 "nbformat_minor": 5
}
